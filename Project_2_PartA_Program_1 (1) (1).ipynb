{
  "nbformat": 4,
  "nbformat_minor": 0,
  "metadata": {
    "colab": {
      "name": "Project 2 PartA Program 1.ipynb",
      "provenance": []
    },
    "kernelspec": {
      "name": "python3",
      "display_name": "Python 3"
    },
    "language_info": {
      "name": "python"
    }
  },
  "cells": [
    {
      "cell_type": "code",
      "source": [
        "import math"
      ],
      "metadata": {
        "id": "t-juD8EbH1p_"
      },
      "execution_count": null,
      "outputs": []
    },
    {
      "cell_type": "code",
      "source": [
        "#Range function only works on intergers. "
      ],
      "metadata": {
        "id": "0kVq9RF8DoEI"
      },
      "execution_count": null,
      "outputs": []
    },
    {
      "cell_type": "code",
      "source": [
        "x = 4.0 \n",
        "while x >= -3: \n",
        "  #x=x-0.5 he then removed it to be at the bottom because it was not including\n",
        "  #the 4.0 at the beginning \n",
        "  x_values.append(x)\n",
        "  \n",
        "\n",
        "  numerator=4*x**3-12*x**2-9*x+27\n",
        "  #print(f'When x = {x} y = {numerator}')\n",
        "\n",
        "  #math.sqrt(insert_number_here)\n",
        "  #abs(insert_number_here)\n",
        "  denominator= math.sqrt(5*x**2 + 2) + 3 * abs(x-2.5)\n",
        "\n",
        "  #print(f'When x = {x} y = {denominator}')\n",
        "\n",
        "  y=numerator/denominator\n",
        "  y_values.append(y)\n",
        "  if y==0:\n",
        "    print(f' x = {x} y= {y} // Y is ZERO')\n",
        "  elif y>0:\n",
        "    print(f' x = {x} y= {y} // Y is POSTIVE')\n",
        "  else:\n",
        "    print(f' x = {x} y= {y} // Y is NEGATIVE')\n",
        "\n",
        "  x=x-0.5\n",
        "  #Both would of been correct, but we needed to place it at the bottom of it. \n",
        "print('The first program is complete')\n",
        "\n"
      ],
      "metadata": {
        "colab": {
          "base_uri": "https://localhost:8080/"
        },
        "id": "xkzd731YD5Yb",
        "outputId": "efe4420f-b1b4-497d-e15f-d3f5d60992a9"
      },
      "execution_count": null,
      "outputs": [
        {
          "output_type": "stream",
          "name": "stdout",
          "text": [
            " x = 4.0 y= 4.057428058260047 // Y is POSTIVE\n",
            " x = 3.5 y= 1.8259859392786852 // Y is POSTIVE\n",
            " x = 3.0 y= 0.0 // Y is ZERO\n",
            " x = 2.5 y= -1.387375951238592 // Y is NEGATIVE\n",
            " x = 2.0 y= -1.1307802693045066 // Y is NEGATIVE\n",
            " x = 1.5 y= 0.0 // Y is ZERO\n",
            " x = 1.0 y= 1.399432972781441 // Y is POSTIVE\n",
            " x = 0.5 y= 2.563190450240003 // Y is POSTIVE\n",
            " x = 0.0 y= 3.0288706694179983 // Y is POSTIVE\n",
            " x = -0.5 y= 2.5919264584373525 // Y is POSTIVE\n",
            " x = -1.0 y= 1.5214041043942683 // Y is POSTIVE\n",
            " x = -1.5 y= 0.0 // Y is ZERO\n",
            " x = -2.0 y= -1.9240901616610293 // Y is NEGATIVE\n",
            " x = -2.5 y= -4.2376388309490745 // Y is NEGATIVE\n",
            " x = -3.0 y= -6.9362217746283275 // Y is NEGATIVE\n",
            "The first program is complete\n"
          ]
        }
      ]
    }
  ]
}