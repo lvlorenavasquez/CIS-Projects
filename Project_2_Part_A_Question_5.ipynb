{
  "cells": [
    {
      "cell_type": "code",
      "execution_count": null,
      "id": "ab7c01b6",
      "metadata": {
        "id": "ab7c01b6",
        "outputId": "d546849d-315d-4383-88a1-230c4c4b00a4"
      },
      "outputs": [
        {
          "name": "stdout",
          "output_type": "stream",
          "text": [
            "This is question 5 for Project 2.\n",
            "Enter 'y' to start: y\n",
            "\n",
            "Enter a date: 5/22/2022\n",
            "\n",
            "5/22/2022 is the original date.\n",
            "5 is the month\t22 is the day\t22 is the year\n",
            "22-5-22 is the European way of printing.\n",
            "June 22, 2022 is the American way of printing.\n",
            "05-22-22 is the full way of printing.\n",
            "\n",
            "\n",
            "Enter 'y' to continue: n\n",
            "\n"
          ]
        }
      ],
      "source": [
        "def main():\n",
        "    intro()\n",
        "    end = input(\"Enter 'y' to start: \")\n",
        "    print()\n",
        "    while end == 'y':\n",
        "        originalDate = readOriginalDate()\n",
        "        breakDate = breakOriginalDate(originalDate)\n",
        "        date3Ways = printDate3Ways(breakDate[0], breakDate[1], breakDate[2])\n",
        "        print()\n",
        "        end = input(\"Enter 'y' to continue: \")\n",
        "        print()\n",
        "    \n",
        "def intro():\n",
        "    print('This is question 5 for Project 2.')\n",
        "    \n",
        "def readOriginalDate():\n",
        "    date = input(\"Enter a date: \")\n",
        "    return date\n",
        "\n",
        "def breakOriginalDate(d):\n",
        "    print()\n",
        "    print(f'{d} is the original date.')\n",
        "    breakD = d.split('/')\n",
        "    if breakD[0][0] == \"0\":\n",
        "        month = breakD[0][-1]\n",
        "    else:\n",
        "        month = breakD[0]\n",
        "    day = breakD[1]\n",
        "    year = int(breakD[2])%100\n",
        "    print(f'{month} is the month\\t{day} is the day\\t{year} is the year')\n",
        "    return month, day, year\n",
        "    \n",
        "def printDate3Ways(mm, dd, yy):\n",
        "    month_list = ['January', 'February', 'March', 'April', 'May', 'June',\n",
        "                 'July', 'August', 'September', 'October', 'November', 'December']\n",
        "    EU = dd + '-' + mm + '-' + str(yy)\n",
        "    AM = month_list[int(mm)] + ' ' + dd + ', 20' + str(yy)\n",
        "    if len(mm) < 2:\n",
        "        mm = \"0\" + mm\n",
        "    FW = mm + '-' + dd + '-' + str(yy)\n",
        "    \n",
        "    print(f'{EU} is the European way of printing.')\n",
        "    print(f'{AM} is the American way of printing.')\n",
        "    print(f'{FW} is the full way of printing.\\n')\n",
        "    \n",
        "    \n",
        "main()"
      ]
    },
    {
      "cell_type": "code",
      "execution_count": null,
      "id": "b639b4fb",
      "metadata": {
        "id": "b639b4fb"
      },
      "outputs": [],
      "source": [
        ""
      ]
    },
    {
      "cell_type": "code",
      "execution_count": null,
      "id": "d17633d6",
      "metadata": {
        "id": "d17633d6"
      },
      "outputs": [],
      "source": [
        ""
      ]
    }
  ],
  "metadata": {
    "kernelspec": {
      "display_name": "Python 3",
      "language": "python",
      "name": "python3"
    },
    "language_info": {
      "codemirror_mode": {
        "name": "ipython",
        "version": 3
      },
      "file_extension": ".py",
      "mimetype": "text/x-python",
      "name": "python",
      "nbconvert_exporter": "python",
      "pygments_lexer": "ipython3",
      "version": "3.8.8"
    },
    "colab": {
      "name": "Project 2_Part A_Question 5.ipynb",
      "provenance": []
    }
  },
  "nbformat": 4,
  "nbformat_minor": 5
}